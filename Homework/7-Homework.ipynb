{
 "cells": [
  {
   "cell_type": "markdown",
   "metadata": {},
   "source": [
    "\n",
    "# 7 Homework\n",
    "---\n"
   ]
  },
  {
   "cell_type": "markdown",
   "metadata": {},
   "source": [
    "1. What does one need to use a module?\n",
    "   The module needs to be installed before it can be imported into the code.\n"
   ]
  },
  {
   "cell_type": "code",
   "execution_count": null,
   "metadata": {},
   "outputs": [],
   "source": [
    "#2. Name a Module and write a line or two of code using this module.\n",
    "   #Pandas\n",
    "import pandas as pd\n",
    "df = pd.read_csv('../file.csv')\n",
    "df.head()\n",
    "df.info()"
   ]
  },
  {
   "cell_type": "markdown",
   "metadata": {},
   "source": [
    "3. What is the benefit of using exception handling?\n",
    "   Exception handling allows us to continue the use of our program instead of letting python raise an error and break. Give it a try/except/finally and we can work through issues."
   ]
  },
  {
   "cell_type": "markdown",
   "metadata": {},
   "source": [
    "4. Numpy arrays are like what Python Data type?\n",
    "   Numpy arrays are much like lists, or lists within lists (within lists)"
   ]
  },
  {
   "cell_type": "markdown",
   "metadata": {},
   "source": [
    "5. What is one of the main benefit of using Numpy arrays?\n",
    "   Using Numpy arrays allows us to perform mathematical operations on a large number of items at once."
   ]
  },
  {
   "cell_type": "markdown",
   "metadata": {},
   "source": [
    "6. What is one of the main requirements of 'dtype' in numpy arrays?\n",
    "   The elements need to be the same type of data before we can use numpy on it.\n"
   ]
  },
  {
   "cell_type": "markdown",
   "metadata": {},
   "source": [
    "7. Of the 10 uses of NumPy, name 2.\n",
    "   Math functions, statistical functions"
   ]
  },
  {
   "cell_type": "markdown",
   "metadata": {},
   "source": [
    "8. Name one of the other libraries we'll use with NumPy?\n",
    "   Pandas"
   ]
  },
  {
   "cell_type": "markdown",
   "metadata": {},
   "source": [
    "9. What is the shape of NumPy arrays?\n",
    "    The shape tells us the number of rows, columns and dimensions in the array. Multipling all the dimensions together gives us total number of values"
   ]
  },
  {
   "cell_type": "markdown",
   "metadata": {},
   "source": [
    "10. What is a tensor?\n",
    "    A tensor is any 3d shaped array"
   ]
  },
  {
   "cell_type": "markdown",
   "metadata": {},
   "source": [
    "11. Name a reason why it's better using NumPy for Data Analysis than using a Python List?\n",
    "    Numpy is both computationally faster and python doesn't natively have support for an array so we can use array or numpy. List is like array-lite"
   ]
  },
  {
   "cell_type": "markdown",
   "metadata": {},
   "source": [
    "12. When creating an \"empty\" array, where do the elements come from?\n",
    "    The elements are random based on the state of the system memory."
   ]
  },
  {
   "cell_type": "markdown",
   "metadata": {},
   "source": [
    "13. What does Pandas stand for?\n",
    "    Panel Data/ Python Data Analysis"
   ]
  },
  {
   "cell_type": "markdown",
   "metadata": {},
   "source": [
    "14. What are the 2 collections used in Pandas?\n",
    "    I don't really understand what this question is asking? If it means libraries, it uses both numpy and pandas. If it means what kind of information it works with, it's dataframes and series."
   ]
  },
  {
   "cell_type": "markdown",
   "metadata": {},
   "source": [
    "15. Name 4 things Pandas can do for us.\n",
    "    Pandas can ingest/export data, cleanse it, normalize it, and visualize it."
   ]
  },
  {
   "cell_type": "markdown",
   "metadata": {},
   "source": [
    "16. To permanently sort a DataFrame, which keyword should one use with the df.sort() method?\n",
    "    , inplace = True"
   ]
  },
  {
   "cell_type": "markdown",
   "metadata": {},
   "source": [
    "17. What is a CSV?\n",
    "    A comma separated value file"
   ]
  },
  {
   "cell_type": "markdown",
   "metadata": {},
   "source": [
    "18. When cleaning data what values do we not like in our data?\n",
    "    Null/NaN"
   ]
  },
  {
   "cell_type": "code",
   "execution_count": null,
   "metadata": {},
   "outputs": [],
   "source": [
    "#Coding exercise\n",
    "import numpy as np\n",
    "arra = ([[25, 16]])\n",
    "arrb = ([[11, 2], [13, 4]])\n",
    "arrc = ([[7, 81], [5, 6], [11, 12]])\n",
    "\n",
    "#1\n",
    "newArray = np.concatenate((arra, arrb, arrc), axis= 0)\n",
    "print(newArray)"
   ]
  },
  {
   "cell_type": "code",
   "execution_count": null,
   "metadata": {},
   "outputs": [],
   "source": [
    "#2\n",
    "sortedArray = np.sort(newArray)\n",
    "print(sortedArray)"
   ]
  },
  {
   "cell_type": "code",
   "execution_count": null,
   "metadata": {},
   "outputs": [],
   "source": [
    "#3\n",
    "#print(sortedArray.shape)\n",
    "reshapedArray = np.reshape(sortedArray, (4,3))\n",
    "print(reshapedArray)"
   ]
  },
  {
   "cell_type": "code",
   "execution_count": null,
   "metadata": {},
   "outputs": [],
   "source": [
    "#4\n",
    "tup1, tup2, tup3, tup4 = reshapedArray\n",
    "print(tup1)\n",
    "print(tup2)\n",
    "print(tup3)\n",
    "print(tup4)"
   ]
  },
  {
   "cell_type": "code",
   "execution_count": null,
   "metadata": {},
   "outputs": [],
   "source": [
    "#5\n",
    "one = ([10, 11, 12, 13, 14, 15, 16, 17])\n",
    "two = ([20, 21, 22, 23, 24, 25, 26, 27])\n",
    "three = ([ 0, 1, 2, 3, 4, 5, 6, 7])\n",
    "\n",
    "comboArrayNS = np.concatenate((one,two,three), axis= 0)\n",
    "comboArray = np.sort(comboArrayNS)\n",
    "print(comboArray)"
   ]
  },
  {
   "cell_type": "code",
   "execution_count": null,
   "metadata": {},
   "outputs": [],
   "source": [
    "#6\n",
    "sec1 = print(comboArray[1])\n",
    "sec2 = print(comboArray[2:-1])\n",
    "sec3 = print(comboArray[3:15])\n",
    "sec4 = print(comboArray[-6::])\n",
    "sec5 = print(comboArray[-27:-10]) #yeesh\n",
    "sec6 = print(comboArray[16:-1:2])\n",
    "revsec7 = comboArray[::-1]\n",
    "sec7 = print(revsec7[::5])  # tell me if there's a better way to do this please"
   ]
  },
  {
   "cell_type": "code",
   "execution_count": null,
   "metadata": {},
   "outputs": [],
   "source": [
    "#7\n",
    "arr1 = np.array([[[ 0.0,  0.0,  0.10], [10.0, 10.30, 10.01]],\n",
    "        [[20.0, 20.02, 20.10], [30.0, 31.0, 30.30]],\n",
    "        [[40.40, 24.0, 40.0], [15.0, 15.5, 25.5]]])\n",
    "\n",
    "arr2 = np.array([[17.0, 70.0, 10.7]])\n",
    "\n",
    "print(arr1 + arr2)\n",
    "print(arr1 * arr2)\n",
    "print(arr1/arr2)"
   ]
  },
  {
   "cell_type": "code",
   "execution_count": null,
   "metadata": {},
   "outputs": [],
   "source": [
    "#8\n",
    "sub1 = np.subtract(arr1,arr2)\n",
    "print(sub1)"
   ]
  },
  {
   "cell_type": "code",
   "execution_count": null,
   "metadata": {},
   "outputs": [],
   "source": [
    "#9\n",
    "modu = arr1[arr1 % 2 == 0] #clever girl\n",
    "print(modu)"
   ]
  },
  {
   "cell_type": "code",
   "execution_count": null,
   "metadata": {},
   "outputs": [],
   "source": [
    "#10\n",
    "import pandas as pd\n",
    "\n",
    "ingredients = pd.Series(['Flour', 'Milk', 'Eggs', 'Spam'], name= 'Ingredients')\n",
    "quantity = pd.Series([4,1,2,1], name= 'Quantity')\n",
    "unit = pd.Series(['cups', 'cup', 'large', 'can'], name= 'Unit')\n",
    "\n",
    "\n",
    "Dinner = pd.concat((ingredients,quantity,unit), axis= 1)\n",
    "\n",
    "print(Dinner)"
   ]
  },
  {
   "cell_type": "code",
   "execution_count": null,
   "metadata": {},
   "outputs": [],
   "source": [
    "#11\n",
    "\n",
    "studentData = pd.DataFrame( {'Name': ['Jai', 'janusha', 'Gaurav', 'Anuj'],\n",
    "        'Height': [5.1, 6.2, 5.1, 5.2],\n",
    "        'Qualification': ['Msc', 'MA', 'Msc', 'Msc'],\n",
    "        'address': ['Delhi', 'Doha', 'Chennai', 'Dakhar'],\n",
    "        'Age': [21, 23, 24, 21],\n",
    "        'Pets': ['Dog', 'Bunny', 'Chinchilla', 'Parrot'],\n",
    "        'sport': ['Darts', 'Basketball', 'PaddleBoarding', 'Cricket']\n",
    "    })\n"
   ]
  },
  {
   "cell_type": "code",
   "execution_count": null,
   "metadata": {},
   "outputs": [],
   "source": [
    "#12\n",
    "favorites = [\"ice cream\", \"Cashew Fudge\", \"waffels\", \"Carrot Halwa\"]\n",
    "studentData.insert(7, 'Ice Cream', ['Ice Cream', \"Cashew Fudge\", \"waffels\", \"Carrot Halwa\"])\n",
    "print(studentData)"
   ]
  },
  {
   "cell_type": "code",
   "execution_count": null,
   "metadata": {},
   "outputs": [],
   "source": [
    "#13\n",
    "studentData.sort_values(by = ['Name', 'address'], inplace = True)\n",
    "print(studentData)"
   ]
  },
  {
   "cell_type": "code",
   "execution_count": null,
   "metadata": {},
   "outputs": [],
   "source": [
    "#14\n",
    "cowsgoats =  df = pd.DataFrame({'Cows': [12, 20], 'Goats': [22, 19]}, index=['Year 1', 'Year 2'])\n",
    "cowNgoats = pd.to_csv('cows_and_goats.csv')"
   ]
  },
  {
   "cell_type": "code",
   "execution_count": null,
   "metadata": {},
   "outputs": [],
   "source": [
    "#15\n",
    "veggies = pd.DataFrame({'Tomatoes': [86, 12], 'Potatoes': [113, 7], 'Carrots': [77, 11]}, index=['New Veggies', 'Old Veggies'])\n",
    "realveggies = pd.to_csv('veggies.csv')\n",
    "\n",
    "nuveggies = pd.read_csv('../veggies.csv')\n",
    "nuveggies.sort_values(by = ['New Veggies'], inplace = True)\n",
    "nuveggies = pd.to_csv('nuveggies.csv')"
   ]
  }
 ],
 "metadata": {
  "kernelspec": {
   "display_name": "Python 3.11.0 64-bit",
   "language": "python",
   "name": "python3"
  },
  "language_info": {
   "codemirror_mode": {
    "name": "ipython",
    "version": 3
   },
   "file_extension": ".py",
   "mimetype": "text/x-python",
   "name": "python",
   "nbconvert_exporter": "python",
   "pygments_lexer": "ipython3",
   "version": "3.11.0"
  },
  "orig_nbformat": 4,
  "vscode": {
   "interpreter": {
    "hash": "843671938645ddc9d85e091a3f73e338290171f7d82f470c57e994ddcbd0ad92"
   }
  }
 },
 "nbformat": 4,
 "nbformat_minor": 2
}
