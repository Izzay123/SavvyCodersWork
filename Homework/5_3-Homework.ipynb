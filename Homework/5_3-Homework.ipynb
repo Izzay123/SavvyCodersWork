{
 "cells": [
  {
   "cell_type": "code",
   "execution_count": 18,
   "metadata": {},
   "outputs": [
    {
     "ename": "TypeError",
     "evalue": "'<' not supported between instances of 'str' and 'float'",
     "output_type": "error",
     "traceback": [
      "\u001b[1;31m---------------------------------------------------------------------------\u001b[0m",
      "\u001b[1;31mTypeError\u001b[0m                                 Traceback (most recent call last)",
      "Cell \u001b[1;32mIn [18], line 8\u001b[0m\n\u001b[0;32m      6\u001b[0m pl2 \u001b[39m=\u001b[39m playlist[\u001b[39m1\u001b[39m:\u001b[39m4\u001b[39m]\n\u001b[0;32m      7\u001b[0m playlist\u001b[39m.\u001b[39mextend(pl2)\n\u001b[1;32m----> 8\u001b[0m pl1 \u001b[39m=\u001b[39m playlist\u001b[39m.\u001b[39;49msort()\n\u001b[0;32m      9\u001b[0m \u001b[39mprint\u001b[39m(pl1)  \u001b[39m#if you could use sort to sort mixed data types would work\u001b[39;00m\n\u001b[0;32m     10\u001b[0m pl3 \u001b[39m=\u001b[39m playlist\u001b[39m.\u001b[39mcopy()\n",
      "\u001b[1;31mTypeError\u001b[0m: '<' not supported between instances of 'str' and 'float'"
     ]
    }
   ],
   "source": [
    "#5-3 homework section 2 Lists\n",
    "\n",
    "playlist = [1,2.0,\"3\",True,9]\n",
    "playlist.remove(1)\n",
    "playlist.insert(0,2)\n",
    "playlist.append(\"Hello\")\n",
    "playlist.insert(4,23.1)\n",
    "pl2 = playlist[1:4]\n",
    "playlist.extend(pl2)\n",
    "pl1 = playlist.sort() #if you could use sort to sort mixed data types would work\n",
    "print(pl1)  \n",
    "pl3 = playlist.copy()\n",
    "pl3s = pl3.sort(reverse=True) #if you could use sort to sort mixed data types would work\n",
    "print(pl3s)\n",
    "pl4 = pl2.extend(pl3s)\n",
    "\n",
    "\n"
   ]
  },
  {
   "cell_type": "code",
   "execution_count": 33,
   "metadata": {},
   "outputs": [
    {
     "name": "stdout",
     "output_type": "stream",
     "text": [
      "bag\n",
      "(50,)\n",
      "rag ag bag stag\n",
      "izzy\n",
      "['ag', 'bag', 'dag', 'izzy', 'stag']\n",
      "('rag', 'ag', 'bag', 'stag', 50)\n"
     ]
    }
   ],
   "source": [
    "#Section 3 Tuples\n",
    "tup = (\"ag\", \"bag\", \"stag\", 'dag', 'rag')\n",
    "tup1 = (tup*3)\n",
    "print(tup1[11])\n",
    "tup2 = tup1[4:8]\n",
    "tup3 = (50,)\n",
    "print(tup3)\n",
    "a,b,c,d = tup2\n",
    "print(a,b,c,d)\n",
    "tup = (\"ag\", \"bag\", \"stag\", 'dag', 'izzy') #can't really modify tup, can reassign stuff though\n",
    "print(tup[4])\n",
    "print(sorted(tup))\n",
    "tup4 = tup2 + tup3\n",
    "print(tup4)"
   ]
  },
  {
   "cell_type": "code",
   "execution_count": 49,
   "metadata": {},
   "outputs": [
    {
     "name": "stdout",
     "output_type": "stream",
     "text": [
      "{('rag', 'ag', 'bag', 'stag'), 'rob', 'frog', 'bob'}\n",
      "{'blue', 'black', 'peach', 'straw', 'orange', 'apple'}\n",
      "{'black', 'straw'}\n",
      "{'blue', 'black', 'straw', 'orange', 'apple'}\n"
     ]
    }
   ],
   "source": [
    "#Section 4 Sets\n",
    "\n",
    "s3t = {'bob', 'frog', 'rob'}\n",
    "s3t.add(tup2)\n",
    "print(s3t)\n",
    "s3t.add('car')\n",
    "berries = {'black', 'blue', 'straw'}\n",
    "tree = {'apple', 'orange', 'peach'}\n",
    "fruits = berries.union(tree)\n",
    "tree.clear()\n",
    "print(fruits)\n",
    "berries.pop()\n",
    "print(berries)\n",
    "fruits.discard('peach')\n",
    "print(fruits)\n",
    "fruits.pop()\n",
    "print(fruits)"
   ]
  },
  {
   "cell_type": "code",
   "execution_count": 73,
   "metadata": {},
   "outputs": [
    {
     "name": "stdout",
     "output_type": "stream",
     "text": [
      "Boston Lager\n",
      "dict_keys(['sam1', 2, 3.0, True, 'five', 'color', 'tup'])\n",
      "dict_values(['sammy1', 'Boston Lager', 'Cherry Wheat', 'Oktoberfest', 'Wicked Hazy', 'green', ('ag', 'bag', 'stag', 'dag', 'izzy')])\n",
      "{'sam1': 'sammy1', 2: 'Boston Lager', 3.0: 'Cherry Wheat', 'five': 'Wicked Hazy', 'color': 'green', 'tup': ('ag', 'bag', 'stag', 'dag', 'izzy')}\n",
      "{}\n"
     ]
    }
   ],
   "source": [
    "beers = {'sam1': 'Wicked Tropical IPA', 2: 'Boston Lager', 3.0:'Cherry Wheat', True:'Oktoberfest', \"five\":'Wicked Hazy'}\n",
    "print(beers[2])\n",
    "beers['sam1'] = 'sammy1'\n",
    "beers.update({'color':'green'})\n",
    "beers.update({'tup':tup})\n",
    "print(beers.keys())\n",
    "print(beers.values())\n",
    "beers2 = beers.copy()\n",
    "beers2.pop(1)\n",
    "print(beers2)\n",
    "beers2.clear()\n",
    "print(beers2)"
   ]
  }
 ],
 "metadata": {
  "kernelspec": {
   "display_name": "Python 3.10.7 64-bit",
   "language": "python",
   "name": "python3"
  },
  "language_info": {
   "codemirror_mode": {
    "name": "ipython",
    "version": 3
   },
   "file_extension": ".py",
   "mimetype": "text/x-python",
   "name": "python",
   "nbconvert_exporter": "python",
   "pygments_lexer": "ipython3",
   "version": "3.10.7"
  },
  "orig_nbformat": 4,
  "vscode": {
   "interpreter": {
    "hash": "e294e780677e1e032bdce45be6d47856e93e1e27ce4107109ef66015a0c76983"
   }
  }
 },
 "nbformat": 4,
 "nbformat_minor": 2
}
