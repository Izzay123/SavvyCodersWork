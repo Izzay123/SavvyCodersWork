{
 "cells": [
  {
   "cell_type": "markdown",
   "metadata": {},
   "source": [
    "#Homework Time\n",
    "---\n",
    "Markdown List Q/A:\n",
    "    1. An algorithm is a set of instructions to solve a type of problem.\n",
    "    2. Python is used as an interpreter language and does not have to compile before running code.\n",
    "    3. Python is a formal language.\n",
    "    4. Variables must start with _ or a letter. No numbers or capital letters.\n",
    "    5. Semantic errors are from statements that don't make sense from bad syntax.\n",
    "    6. The #1 rule of coding is efficiency > complexity.\n",
    "    7. FALSE, TRUE, None, else, if\n",
    "    8. [Python for everyone](www.py4e.org)\n",
    "\n"
   ]
  },
  {
   "cell_type": "code",
   "execution_count": 16,
   "metadata": {},
   "outputs": [
    {
     "name": "stdout",
     "output_type": "stream",
     "text": [
      "5\n",
      "3\n",
      "ing Data Analytics\n",
      "Learning Data Analytics and Python is great!\n",
      "Hi my name is Bob, I am so 6 foot and 40 years old today.\n",
      "23.0\n"
     ]
    }
   ],
   "source": [
    "\"\"\"\n",
    "Name: Izzy\n",
    "Favorite food: EVERYTHING\n",
    "Dream Job: Data Scientist at Nvidia\n",
    "\"\"\"\n",
    "a,b,c,d,e = 1,2.0,\"Three\",True,None\n",
    "print(len(c))\n",
    "print(c.index('e'))\n",
    "savvy = 'Learning Data Analytics and Python is Awesome!'\n",
    "print(savvy[5:23])\n",
    "f = savvy.replace('Awesome', 'great')\n",
    "print(f)\n",
    "name,age,length = 'Big',23,400\n",
    "miniBio = \"Hi my name is {name}, I am so {tall} and {so} old today.\".format( name = \"Bob\", so = \"40 years\", tall = \"6 foot\") \n",
    "print(miniBio)\n",
    "print(float(age))\n"
   ]
  }
 ],
 "metadata": {
  "kernelspec": {
   "display_name": "Python 3.10.7 64-bit",
   "language": "python",
   "name": "python3"
  },
  "language_info": {
   "codemirror_mode": {
    "name": "ipython",
    "version": 3
   },
   "file_extension": ".py",
   "mimetype": "text/x-python",
   "name": "python",
   "nbconvert_exporter": "python",
   "pygments_lexer": "ipython3",
   "version": "3.10.7"
  },
  "orig_nbformat": 4,
  "vscode": {
   "interpreter": {
    "hash": "e294e780677e1e032bdce45be6d47856e93e1e27ce4107109ef66015a0c76983"
   }
  }
 },
 "nbformat": 4,
 "nbformat_minor": 2
}
