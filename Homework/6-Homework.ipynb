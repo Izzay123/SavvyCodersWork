{
 "cells": [
  {
   "cell_type": "code",
   "execution_count": null,
   "metadata": {},
   "outputs": [],
   "source": [
    "#1\n",
    "age = 0\n",
    "if age >= 25:\n",
    "    print('Renting a car is more affordable.')\n",
    "elif age < 25:\n",
    "    print('You cannot legally rent a car.')\n",
    "    \n"
   ]
  },
  {
   "cell_type": "code",
   "execution_count": null,
   "metadata": {},
   "outputs": [],
   "source": [
    "#2\n",
    "if age >= 25:\n",
    "    print('Renting a car is more affordable.')\n",
    "elif age < 25 and age >= 18:\n",
    "    print('Renting a car is very expensive.')\n",
    "elif age < 18:\n",
    "    print('You cannot legally rent a car.')\n"
   ]
  },
  {
   "cell_type": "code",
   "execution_count": null,
   "metadata": {},
   "outputs": [],
   "source": [
    "\n",
    "#3\n",
    "doge = 'The quick brown fox jumps over the lazy dog'\n",
    "count = 0\n",
    "for x in doge:\n",
    "    if x == 'a' or x == 'e' or x == 'i' or x == 'o' or x == 'u':\n",
    "        count += 1\n",
    "        print(x, end= \" \")\n",
    "dogee = len(doge)\n",
    "print(f'\\nThere\\'s {dogee} character\\'s in doge.')\n",
    "print(f'There is {count} vowels in doge.')\n"
   ]
  },
  {
   "cell_type": "code",
   "execution_count": null,
   "metadata": {},
   "outputs": [],
   "source": [
    "\n",
    "#4 \n",
    "couture = [\"trousers\", \"blouse\", \"bandana\", \"cumber band\", \"blazer\", \"vest\", \"french beret\", \"scarf\", \"stole\"] \n",
    "panettone = {\"cerise\", \"fuchsia\", \"aqua\", \"maple\", \"auburn\", \"burnt sienna\", \"gunmetal blue\", \"Dark Sapphire\"}\n",
    "for clothing in couture:\n",
    "    for color in panettone:\n",
    "        print(color +\" \"+ clothing, end= \" \")\n",
    " "
   ]
  },
  {
   "cell_type": "code",
   "execution_count": null,
   "metadata": {},
   "outputs": [],
   "source": [
    "       \n",
    "#5\n",
    "total = 0\n",
    "for x in range(101):\n",
    "    total = x + total\n",
    "print(total)\n"
   ]
  },
  {
   "cell_type": "code",
   "execution_count": null,
   "metadata": {},
   "outputs": [],
   "source": [
    "\n",
    "#6\n",
    "fruits =  [\"apple\", \"banana\", \"cherry\"]\n",
    "print(fruits[1])\n"
   ]
  },
  {
   "cell_type": "code",
   "execution_count": null,
   "metadata": {},
   "outputs": [],
   "source": [
    "#7\n",
    "fruits[0] = 'kiwi'\n",
    "print(fruits)"
   ]
  },
  {
   "cell_type": "code",
   "execution_count": null,
   "metadata": {},
   "outputs": [],
   "source": [
    "#8\n",
    "fruits.append('orange')\n",
    "print(fruits)\n"
   ]
  },
  {
   "cell_type": "code",
   "execution_count": null,
   "metadata": {},
   "outputs": [],
   "source": [
    "#9\n",
    "fruits.insert(1, 'lemon')\n",
    "print(fruits)"
   ]
  },
  {
   "cell_type": "code",
   "execution_count": null,
   "metadata": {},
   "outputs": [],
   "source": [
    "#10\n",
    "fruits.remove('banana')\n",
    "print(fruits)"
   ]
  },
  {
   "cell_type": "code",
   "execution_count": null,
   "metadata": {},
   "outputs": [],
   "source": [
    "#11\n",
    "nufruits = [\"apple\", \"banana\", \"cherry\", \"orange\", \"kiwi\", \"melon\", \"mango\"]\n",
    "print(nufruits[-3:-1])"
   ]
  },
  {
   "cell_type": "code",
   "execution_count": null,
   "metadata": {},
   "outputs": [],
   "source": [
    "#12\n",
    "print(nufruits[2:5])"
   ]
  },
  {
   "cell_type": "code",
   "execution_count": null,
   "metadata": {},
   "outputs": [],
   "source": [
    "#13\n",
    "print(len(nufruits))"
   ]
  },
  {
   "cell_type": "code",
   "execution_count": null,
   "metadata": {},
   "outputs": [],
   "source": [
    "#14\n",
    "nufruits.reverse\n",
    "print(nufruits)"
   ]
  },
  {
   "cell_type": "code",
   "execution_count": null,
   "metadata": {},
   "outputs": [],
   "source": [
    "#15\n",
    "#import datetime as dt\n",
    "now = dt.datetime.now()\n",
    "print(now.strftime('%B'))"
   ]
  },
  {
   "cell_type": "code",
   "execution_count": null,
   "metadata": {},
   "outputs": [],
   "source": [
    "#16\n",
    "def nameday(name, day = 'Sunday'):\n",
    "    return (f'Hi {name}! Happy {day}-{name}!')\n",
    "\n",
    "nameday(\"Bob\",'Tuesday')\n",
    "nameday('Sadness')"
   ]
  },
  {
   "cell_type": "code",
   "execution_count": 2,
   "metadata": {},
   "outputs": [
    {
     "name": "stdout",
     "output_type": "stream",
     "text": [
      "[[[0. 0.]\n",
      "  [0. 0.]\n",
      "  [0. 0.]]\n",
      "\n",
      " [[0. 0.]\n",
      "  [0. 0.]\n",
      "  [0. 0.]]]\n"
     ]
    }
   ],
   "source": [
    "#17\n",
    "import numpy as np\n",
    "zero = np.zeros(12).reshape(2,3,2)\n",
    "\n",
    "print(zero)"
   ]
  },
  {
   "cell_type": "code",
   "execution_count": 3,
   "metadata": {},
   "outputs": [
    {
     "name": "stdout",
     "output_type": "stream",
     "text": [
      "[ 1.    3.25  5.5   7.75 10.  ]\n"
     ]
    }
   ],
   "source": [
    "#18\n",
    "import numpy as np\n",
    "\n",
    "lines = np.linspace(1,10, num=5) \n",
    "print(lines)"
   ]
  },
  {
   "cell_type": "code",
   "execution_count": 4,
   "metadata": {},
   "outputs": [
    {
     "name": "stdout",
     "output_type": "stream",
     "text": [
      "[ 1.    3.25  5.5   7.75 10.  ]\n"
     ]
    }
   ],
   "source": [
    "#19\n",
    "import copy\n",
    "nulines = copy.deepcopy(lines)\n",
    "print(nulines)"
   ]
  },
  {
   "cell_type": "markdown",
   "metadata": {},
   "source": [
    "#20\n",
    "Numpy is **MUCH FASTER** than lists in processing time.\n",
    "<br>\n",
    "Numpy gives us the ability to work with 2+ dimensional lists like matrix, tensor etc. "
   ]
  }
 ],
 "metadata": {
  "kernelspec": {
   "display_name": "Python 3.10.7 64-bit",
   "language": "python",
   "name": "python3"
  },
  "language_info": {
   "codemirror_mode": {
    "name": "ipython",
    "version": 3
   },
   "file_extension": ".py",
   "mimetype": "text/x-python",
   "name": "python",
   "nbconvert_exporter": "python",
   "pygments_lexer": "ipython3",
   "version": "3.10.7"
  },
  "orig_nbformat": 4,
  "vscode": {
   "interpreter": {
    "hash": "e294e780677e1e032bdce45be6d47856e93e1e27ce4107109ef66015a0c76983"
   }
  }
 },
 "nbformat": 4,
 "nbformat_minor": 2
}
